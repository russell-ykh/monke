{
 "cells": [
  {
   "cell_type": "markdown",
   "metadata": {},
   "source": [
    "# 0. Imports"
   ]
  },
  {
   "cell_type": "code",
   "execution_count": 1,
   "metadata": {},
   "outputs": [],
   "source": [
    "import numpy as np\n",
    "from sklearn.model_selection import train_test_split\n",
    "from sklearn.ensemble import RandomForestClassifier\n",
    "from sklearn.metrics import f1_score, matthews_corrcoef, accuracy_score, ConfusionMatrixDisplay\n",
    "import monke_features as mf\n",
    "import monke_classify as mc\n",
    "import monke_io as mio\n",
    "import matplotlib.pyplot as plt\n",
    "import pandas as pd\n",
    "from pathlib import Path\n",
    "import os.path as path"
   ]
  },
  {
   "cell_type": "code",
   "execution_count": 2,
   "metadata": {},
   "outputs": [],
   "source": [
    "# KOI\n",
    "names_koi = [\"koi_apr11\", \"koi_apr17\", \"koi_apr25\", \"koi_apr25_3\", \"koi_apr25_4\", \"koi_apr25_5\", \"koi_apr25_6\"]\n",
    "\n",
    "pose_data_koi = mio.read_poses(names_koi)\n",
    "tremors_raw = mio.read_tremors_multi(names_koi)\n",
    "labels_koi = {}\n",
    "\n",
    "for name in tremors_raw:\n",
    "    labels_koi[name] = mf.generate_labelled_frames(pose_data_koi[name], tremors_raw[name])\n",
    "\n",
    "# BOBA\n",
    "names_boba = [\"boba_apr11\", \"boba_apr21\", \"boba_apr21_2\", \"boba_apr25\", \"boba_apr25_2\"]\n",
    "\n",
    "pose_data_boba = mio.read_poses(names_boba)\n",
    "tremors_raw = mio.read_tremors_multi(names_boba)\n",
    "labels_boba = {}\n",
    "\n",
    "for name in tremors_raw:\n",
    "    labels_boba[name] = mf.generate_labelled_frames(pose_data_boba[name], tremors_raw[name])\n",
    "\n",
    "# BANDUNG\n",
    "names_bandung = [\"bandung_mar27\", \"bandung_mar27_2\", \"bandung_mar27_3\", \"bandung_may19_2\"]\n",
    "\n",
    "pose_data_bandung = mio.read_poses(names_bandung)\n",
    "tremors_raw = mio.read_tremors_multi(names_bandung)\n",
    "labels_bandung = {}\n",
    "\n",
    "for name in tremors_raw:\n",
    "    labels_bandung[name] = mf.generate_labelled_frames(pose_data_bandung[name], tremors_raw[name])\n",
    "\n",
    "# HORLICKS\n",
    "names_horlicks = [\"horlicks_apr12\", \"horlicks_may2\", \"horlicks_jun16\"]\n",
    "\n",
    "pose_data_horlicks = mio.read_poses(names_horlicks)\n",
    "tremors_raw = mio.read_tremors_multi(names_horlicks)\n",
    "labels_horlicks = {}\n",
    "\n",
    "for name in tremors_raw:\n",
    "    labels_horlicks[name] = mf.generate_labelled_frames(pose_data_horlicks[name], tremors_raw[name])\n",
    "    \n",
    "# BRIYANI\n",
    "names_briyani = [\"briyani_apr12\", \"briyani_may19\", \"briyani_jun16\"]\n",
    "\n",
    "pose_data_briyani = mio.read_poses(names_briyani)\n",
    "tremors_raw = mio.read_tremors_multi(names_briyani)\n",
    "labels_briyani = {}\n",
    "\n",
    "for name in tremors_raw:\n",
    "    labels_briyani[name] = mf.generate_labelled_frames(pose_data_briyani[name], tremors_raw[name])\n",
    "    \n",
    "# TUTU KUEH\n",
    "names_tutukueh = [\"tutukueh_apr21\", \"tutukueh_may2\", \"tutukueh_jun15\"]\n",
    "\n",
    "pose_data_tutukueh = mio.read_poses(names_tutukueh)\n",
    "tremors_raw = mio.read_tremors_multi(names_tutukueh)\n",
    "labels_tutukueh = {}\n",
    "\n",
    "for name in tremors_raw:\n",
    "    labels_tutukueh[name] = mf.generate_labelled_frames(pose_data_tutukueh[name], tremors_raw[name])\n",
    "\n",
    "# ALL\n",
    "names_all = {\"koi\":names_koi, \"boba\":names_boba, \"bandung\":names_bandung, \n",
    "             \"horlicks\":names_horlicks, \"briyani\":names_briyani, \"tutukueh\":names_tutukueh}\n",
    "pose_data_all = {\"koi\":pose_data_koi, \"boba\":pose_data_boba, \"bandung\":pose_data_bandung, \n",
    "             \"horlicks\":pose_data_horlicks, \"briyani\":pose_data_briyani, \"tutukueh\":pose_data_tutukueh}\n",
    "labels_all = {\"koi\":labels_koi, \"boba\":labels_boba, \"bandung\":labels_bandung, \n",
    "             \"horlicks\":labels_horlicks, \"briyani\":labels_briyani, \"tutukueh\":labels_tutukueh}"
   ]
  },
  {
   "cell_type": "code",
   "execution_count": 3,
   "metadata": {},
   "outputs": [],
   "source": [
    "process = lambda x : mf.changes_in_changes(mf.vel(x), 10, 0.1)\n",
    "\n",
    "processed_koi_data, processed_koi_labels = mc.process_data(pose_data_koi, labels_koi, process)\n",
    "# training_data, testing_data, training_labels, testing_labels = prep_multi_train_test_data(processed_data, processed_labels, names_all)"
   ]
  },
  {
   "cell_type": "markdown",
   "metadata": {},
   "source": [
    "# 1. Steps"
   ]
  },
  {
   "cell_type": "markdown",
   "metadata": {},
   "source": [
    "## 1.1 Test on Other Koi Video (koi_apr11), 10 minutes and 2 minutes."
   ]
  },
  {
   "cell_type": "code",
   "execution_count": 36,
   "metadata": {},
   "outputs": [
    {
     "data": {
      "text/plain": [
       "1887"
      ]
     },
     "execution_count": 36,
     "metadata": {},
     "output_type": "execute_result"
    }
   ],
   "source": [
    "len(processed_koi_labels['koi_apr25_6'])"
   ]
  },
  {
   "cell_type": "code",
   "execution_count": 35,
   "metadata": {},
   "outputs": [
    {
     "data": {
      "text/plain": [
       "array([[0, 0, 0, ..., 0, 0, 0],\n",
       "       [0, 0, 0, ..., 0, 0, 0],\n",
       "       [0, 0, 0, ..., 0, 0, 0],\n",
       "       ...,\n",
       "       [0, 2, 4, ..., 0, 1, 0],\n",
       "       [0, 2, 4, ..., 0, 1, 0],\n",
       "       [0, 1, 3, ..., 0, 2, 0]], dtype=int64)"
      ]
     },
     "execution_count": 35,
     "metadata": {},
     "output_type": "execute_result"
    }
   ],
   "source": [
    "ple = np.column_stack((processed_koi_data['koi_apr25_6'], processed_koi_labels['koi_apr25_6']))\n",
    "ple"
   ]
  },
  {
   "cell_type": "code",
   "execution_count": 16,
   "metadata": {},
   "outputs": [
    {
     "name": "stdout",
     "output_type": "stream",
     "text": [
      "18925\n",
      "18295\n",
      "20447\n",
      "18593\n",
      "2344\n",
      "21229\n",
      "1887\n"
     ]
    }
   ],
   "source": [
    "for i in processed_koi_data.values():\n",
    "    print(len(i))"
   ]
  },
  {
   "cell_type": "code",
   "execution_count": 42,
   "metadata": {},
   "outputs": [
    {
     "data": {
      "text/plain": [
       "array([[0., 0., 0., ..., 0., 0., 0.],\n",
       "       [0., 0., 0., ..., 0., 0., 0.],\n",
       "       [0., 0., 0., ..., 0., 0., 0.],\n",
       "       ...,\n",
       "       [0., 2., 4., ..., 0., 0., 1.],\n",
       "       [0., 2., 4., ..., 0., 0., 1.],\n",
       "       [0., 1., 3., ..., 0., 0., 2.]])"
      ]
     },
     "execution_count": 42,
     "metadata": {},
     "output_type": "execute_result"
    }
   ],
   "source": [
    "np.concatenate((np.empty((0, 51)), processed_koi_data[\"koi_apr25_6\"]))"
   ]
  },
  {
   "cell_type": "code",
   "execution_count": 104,
   "metadata": {},
   "outputs": [],
   "source": [
    "def pool_and_take_out(processed_animal_data, processed_animal_labels, train_names, test_names, train_size=None, test_size=0.2):\n",
    "    \n",
    "    if test_size > 1 or test_size < 0:\n",
    "        raise ValueError(\"Test size must be between 0 to 1\")\n",
    "    if train_size > 1 or train_size < 0:\n",
    "        raise ValueError(\"Train size must be between 0 to 1\")\n",
    "    if train_size == None:\n",
    "        train_size = 1 - test_size\n",
    "    \n",
    "    all_train_data_1_1 = np.empty((0,51))\n",
    "    all_train_labels_1_1 = []\n",
    "    all_test_data_1_1 = np.empty((0,51))\n",
    "    all_test_labels_1_1 = []\n",
    "\n",
    "    for name in train_names:\n",
    "        all_train_data_1_1 = np.concatenate((all_train_data_1_1, processed_animal_data[name]))\n",
    "        all_train_labels_1_1 = np.concatenate((all_train_labels_1_1, processed_animal_labels[name]))\n",
    "    for name in test_names:\n",
    "        all_test_data_1_1 = np.concatenate((all_train_data_1_1, processed_animal_data[name]))\n",
    "        all_test_labels_1_1 = np.concatenate((all_train_labels_1_1, processed_animal_labels[name]))\n",
    "\n",
    "    \n",
    "    all_train_data_and_labels = np.column_stack((all_train_data_1_1, all_train_labels_1_1))\n",
    "    all_test_data_and_labels = np.column_stack((all_test_data_1_1, all_test_labels_1_1))\n",
    "    \n",
    "    rng = np.random.default_rng()\n",
    "\n",
    "    combined_train_data_1_1 = []\n",
    "    combined_train_labels_1_1 = []\n",
    "    combined_test_data_1_1 = []\n",
    "    combined_test_labels_1_1 = []\n",
    "    #print(all_train_data_and_labels)\n",
    "    train_percent = int(len(all_train_data_and_labels) * train_size)\n",
    "    test_percent = int(len(all_test_data_and_labels) * test_size)\n",
    "\n",
    "    sampled_train = rng.choice(all_train_data_and_labels, size=train_percent, replace=False).astype(int)\n",
    "    sampled_test = rng.choice(all_test_data_and_labels, size=test_percent, replace=False).astype(int)\n",
    "    \n",
    "\n",
    "    sampled_train_data = sampled_train[:, :-1]\n",
    "    sampled_train_labels = sampled_train[:, -1]\n",
    "    sampled_test_data = sampled_test[:, :-1]\n",
    "    sampled_test_labels = sampled_test[:, -1]\n",
    "\n",
    "    return sampled_train_data, sampled_test_data, sampled_train_labels, sampled_test_labels"
   ]
  },
  {
   "cell_type": "code",
   "execution_count": 105,
   "metadata": {},
   "outputs": [
    {
     "name": "stdout",
     "output_type": "stream",
     "text": [
      "(0, 0)\n",
      "(0, 1)\n",
      "(1, 0)\n",
      "(1, 1)\n",
      "(2, 0)\n",
      "(2, 1)\n",
      "(3, 0)\n",
      "(3, 1)\n",
      "(4, 0)\n",
      "(4, 1)\n"
     ]
    }
   ],
   "source": [
    "combined_train_1_1 = [\"koi_apr17\", \"koi_apr25\", \"koi_apr25_3\", \"koi_apr25_4\", \"koi_apr25_6\"]\n",
    "test_1_1 = ['koi_apr11']\n",
    "test_names_1_1 = ['20per_1_1', '100per_1_1']\n",
    "train_names_1_1 = [\"20_1_1\", \"40_1_1\", \"60_1_1\", \"80_1_1\", \"100_1_1\"]\n",
    "test_sizes_1_1 = [0.2, 0.99999999]\n",
    "train_sizes_1_1 = [0.2, 0.4, 0.6, 0.8, 0.99999999]\n",
    "#test_length_1_1 = np.array(test_sizes_1_1) * len(processed_koi_data['koi_apr11'])\n",
    "#train_length_1_1 = np.array(train_sizes_1_1) * len(all_train_data)\n",
    "test_length_1_1 = test_length_1_1.astype(int)\n",
    "train_length_1_1 = train_length_1_1.astype(int)\n",
    "clf = RandomForestClassifier(class_weight=\"balanced_subsample\")\n",
    "\n",
    "results_1_1 = []\n",
    "\n",
    "for i in range(5):\n",
    "    results_1_1.append({})\n",
    "    for j in range(2):\n",
    "        results_1_1[i][test_names_1_1[j]] = []\n",
    "        training_data, test_data, training_labels, test_labels = pool_and_take_out(processed_koi_data, processed_koi_labels, train_names=combined_train_1_1, test_names=test_1_1, test_size=test_sizes_1_1[j] ,train_size=train_sizes_1_1[i])\n",
    "        clf.fit(training_data, training_labels)\n",
    "        print((i, j))\n",
    "        results_1_1[i][test_names_1_1[j]].append(mc.test_classify(clf, test_data, test_labels))"
   ]
  },
  {
   "cell_type": "code",
   "execution_count": 106,
   "metadata": {},
   "outputs": [
    {
     "data": {
      "text/plain": [
       "[{'20per_1_1': [{'predictions': array([0, 0, 0, ..., 1, 0, 0]),\n",
       "    'mcc': 0.6724260127173783,\n",
       "    'f1': 0.7127496159754224,\n",
       "    'accuracy': 0.9070692011429992}],\n",
       "  '100per_1_1': [{'predictions': array([0, 0, 0, ..., 0, 0, 0]),\n",
       "    'mcc': 0.6700858720372784,\n",
       "    'f1': 0.7077929664680453,\n",
       "    'accuracy': 0.9067834513604175}]},\n",
       " {'20per_1_1': [{'predictions': array([0, 0, 0, ..., 0, 0, 0]),\n",
       "    'mcc': 0.7452399036715744,\n",
       "    'f1': 0.7787610619469026,\n",
       "    'accuracy': 0.9285625543545782}],\n",
       "  '100per_1_1': [{'predictions': array([0, 0, 0, ..., 0, 0, 0]),\n",
       "    'mcc': 0.750857392822255,\n",
       "    'f1': 0.7843647723891699,\n",
       "    'accuracy': 0.9279662069822339}]},\n",
       " {'20per_1_1': [{'predictions': array([0, 1, 0, ..., 0, 0, 0]),\n",
       "    'mcc': 0.7958721660208864,\n",
       "    'f1': 0.8242776667272397,\n",
       "    'accuracy': 0.9399304261398932}],\n",
       "  '100per_1_1': [{'predictions': array([1, 0, 0, ..., 0, 0, 0]),\n",
       "    'mcc': 0.8003666667176239,\n",
       "    'f1': 0.828975599112695,\n",
       "    'accuracy': 0.9415703814138402}]},\n",
       " {'20per_1_1': [{'predictions': array([1, 0, 0, ..., 0, 0, 0]),\n",
       "    'mcc': 0.8285186488289886,\n",
       "    'f1': 0.8542300125201217,\n",
       "    'accuracy': 0.9493725928686794}],\n",
       "  '100per_1_1': [{'predictions': array([0, 0, 0, ..., 0, 0, 0]),\n",
       "    'mcc': 0.8190766910598767,\n",
       "    'f1': 0.845996188558484,\n",
       "    'accuracy': 0.9467884209218537}]},\n",
       " {'20per_1_1': [{'predictions': array([0, 0, 0, ..., 0, 0, 0]),\n",
       "    'mcc': 0.836502942286368,\n",
       "    'f1': 0.8610911701363962,\n",
       "    'accuracy': 0.9519194931047336}],\n",
       "  '100per_1_1': [{'predictions': array([1, 1, 0, ..., 0, 0, 0]),\n",
       "    'mcc': 0.8364577703134818,\n",
       "    'f1': 0.8614990025648332,\n",
       "    'accuracy': 0.9516958628401043}]}]"
      ]
     },
     "execution_count": 106,
     "metadata": {},
     "output_type": "execute_result"
    }
   ],
   "source": [
    "results_1_1"
   ]
  },
  {
   "cell_type": "code",
   "execution_count": 116,
   "metadata": {},
   "outputs": [
    {
     "name": "stdout",
     "output_type": "stream",
     "text": [
      "[0.6724260127173783, 0.7452399036715744, 0.7958721660208864, 0.8285186488289886, 0.836502942286368]\n"
     ]
    }
   ],
   "source": [
    "print(mccs20_1_1)"
   ]
  },
  {
   "cell_type": "code",
   "execution_count": 115,
   "metadata": {},
   "outputs": [
    {
     "name": "stdout",
     "output_type": "stream",
     "text": [
      "The Average and the Variance of 20% Koi_Apr11 is 0.7757119347050392 and 0.0036974113884351532 respectively.\n",
      "The Average and the Variance of 100% Koi_Apr11 is 0.7753688785901032 and 0.0035904878755003084 respectively.\n"
     ]
    }
   ],
   "source": [
    "mccs20_1_1 = []\n",
    "mccs100_1_1 = []\n",
    "oddeven = 1\n",
    "\n",
    "for set in results_1_1:\n",
    "    for trial in set.values():\n",
    "        trial = trial[0]\n",
    "        if oddeven == 1:\n",
    "            mccs20_1_1.append(trial[\"mcc\"])\n",
    "            oddeven -= 1\n",
    "        elif oddeven == 0:\n",
    "            mccs100_1_1.append(trial[\"mcc\"])\n",
    "            oddeven += 1\n",
    "\n",
    "avg_mcc20_1_1 = np.mean(mccs20_1_1)\n",
    "avg_mcc100_1_1 = np.mean(mccs100_1_1)\n",
    "var_mcc20_1_1 = np.var(mccs20_1_1)\n",
    "var_mcc100_1_1 = np.var(mccs100_1_1)\n",
    "print(f'The Average and the Variance of 20% Koi_Apr11 is {avg_mcc20_1_1} and {var_mcc20_1_1} respectively.')\n",
    "print(f'The Average and the Variance of 100% Koi_Apr11 is {avg_mcc100_1_1} and {var_mcc100_1_1} respectively.')\n",
    "\n",
    "# avg_mcc_1_1 = np.mean(mccs_1_1)\n",
    "# variance_1_1 = np.var(mccs_1_1)"
   ]
  },
  {
   "cell_type": "code",
   "execution_count": 108,
   "metadata": {},
   "outputs": [
    {
     "ename": "TypeError",
     "evalue": "object of type 'numpy.float64' has no len()",
     "output_type": "error",
     "traceback": [
      "\u001b[1;31m---------------------------------------------------------------------------\u001b[0m",
      "\u001b[1;31mTypeError\u001b[0m                                 Traceback (most recent call last)",
      "Cell \u001b[1;32mIn[108], line 1\u001b[0m\n\u001b[1;32m----> 1\u001b[0m xticks \u001b[38;5;241m=\u001b[39m \u001b[38;5;28mlist\u001b[39m(\u001b[38;5;28mrange\u001b[39m(\u001b[38;5;241m1\u001b[39m, \u001b[38;5;28;43mlen\u001b[39;49m\u001b[43m(\u001b[49m\u001b[43mvariance_1_1\u001b[49m\u001b[43m)\u001b[49m\u001b[38;5;241m+\u001b[39m\u001b[38;5;241m1\u001b[39m))\n\u001b[0;32m      2\u001b[0m plt\u001b[38;5;241m.\u001b[39mbar(xticks, variance_1_1)\n\u001b[0;32m      3\u001b[0m plt\u001b[38;5;241m.\u001b[39mtitle(\u001b[38;5;124m\"\u001b[39m\u001b[38;5;124mVariance in MCC of Predictions of Koi April 25 (4) and Koi April 25 (6)\u001b[39m\u001b[38;5;124m\"\u001b[39m)\n",
      "\u001b[1;31mTypeError\u001b[0m: object of type 'numpy.float64' has no len()"
     ]
    }
   ],
   "source": [
    "xticks = list(range(1, len(variance_1_1)+1))\n",
    "plt.bar(xticks, variance_1_1)\n",
    "plt.title(\"Variance in MCC of Predictions of Koi April 25 (4) and Koi April 25 (6)\")\n",
    "plt.xlabel(\"Number of Training Datasets\")\n",
    "plt.ylabel(\"Variance\")\n",
    "plt.xticks(xticks)\n",
    "plt.show()"
   ]
  },
  {
   "cell_type": "code",
   "execution_count": 120,
   "metadata": {},
   "outputs": [
    {
     "data": {
      "image/png": "[encoded data removed]",
      "text/plain": [
       "<Figure size 640x480 with 1 Axes>"
      ]
     },
     "metadata": {},
     "output_type": "display_data"
    }
   ],
   "source": [
    "x = ['20%', '40%', '60%', '80%', '100%']\n",
    "plt.bar(x, mccs20_1_1)\n",
    "plt.title(\"MCC of Predictions of Koi April 11 (20%)\")\n",
    "plt.xlabel(\"Amount of Training Data Used\")\n",
    "plt.ylabel(\"MCC\")\n",
    "plt.xticks(x)\n",
    "plt.show()"
   ]
  },
  {
   "cell_type": "code",
   "execution_count": 122,
   "metadata": {},
   "outputs": [
    {
     "data": {
      "image/png": "[encoded data removed]",
      "text/plain": [
       "<Figure size 640x480 with 1 Axes>"
      ]
     },
     "metadata": {},
     "output_type": "display_data"
    }
   ],
   "source": [
    "x = ['20%', '40%', '60%', '80%', '100%']\n",
    "plt.bar(x, mccs100_1_1)\n",
    "plt.title(\"MCC of Predictions of Koi April 11 (100%)\")\n",
    "plt.xlabel(\"Amount of Training Data Used\")\n",
    "plt.ylabel(\"MCC\")\n",
    "plt.xticks(x)\n",
    "plt.show()"
   ]
  },
  {
   "cell_type": "markdown",
   "metadata": {
    "jp-MarkdownHeadingCollapsed": true
   },
   "source": [
    "## HIDE FIRST"
   ]
  },
  {
   "cell_type": "code",
   "execution_count": null,
   "metadata": {},
   "outputs": [],
   "source": [
    "'''\n",
    "all = [all_train_data_and_labels, all_test_data_and_labels]\n",
    "res = [[combined_train_data_1_1, combined_train_labels_1_1], [combined_test_data_1_1, combined_test_labels_1_1]]\n",
    "    \n",
    "for i, each in list(enumerate(all)): # i = 0 -> train, i = 1 -> test\n",
    "        sampled_data = []\n",
    "        store = res[i]\n",
    "        for per in [0.2, 0.4, 0.6, 0.8, 1]:\n",
    "            x_percent = int(len(each) * per)\n",
    "    \n",
    "    # Randomly select 20% of the data\n",
    "            sampled_all_x = rng.choice(each, size=x_percent, replace=False)\n",
    "\n",
    "            sampled_data_x = sampled_all_x[:, :-1]\n",
    "            sampled_label_x = sampled_all_x[:, -1]\n",
    "\n",
    "            store[0][f'{per*100}%'] = sampled_data_x\n",
    "            store[1][f'{per*100}%'] = sampled_label_x\n",
    "    \n",
    "    return res\n",
    "'''"
   ]
  },
  {
   "cell_type": "code",
   "execution_count": 97,
   "metadata": {},
   "outputs": [],
   "source": [
    "def pool_and_take_out(data):\n",
    "    # Calculate 20% of the total data length\n",
    "    twenty_percent = int(len(data) * 0.20)\n",
    "    fourty_percent = int(len(data) * 0.40)\n",
    "    sixty_percent = int(len(data) * 0.60)\n",
    "    eighty_percent = int(len(data) * 0.80)\n",
    "    one_hundert_percent = len(data)\n",
    "    \n",
    "    # Randomly select 20% of the data\n",
    "    sampled_data_20 = np.random.choice(data.shape[0], size=twenty_percent, replace=False)\n",
    "    sampled_data_40 = np.random.choice(data.shape[0], size=fourty_percent, replace=False)\n",
    "    sampled_data_60 = np.random.choice(data.shape[0], size=sixty_percent, replace=False)\n",
    "    sampled_data_80 = np.random.choice(data.shape[0], size=eighty_percent, replace=False)\n",
    "    sampled_data_100 = np.random.choice(data.shape[0], size=one_hundert_percent, replace=False)\n",
    "    \n",
    "    # Pool the remaining data\n",
    "    sampled_data = [sampled_data_20, sampled_data_40, sampled_data_60, sampled_data_80, sampled_data_100]\n",
    "    \n",
    "    return sampled_data"
   ]
  },
  {
   "cell_type": "code",
   "execution_count": 98,
   "metadata": {},
   "outputs": [
    {
     "name": "stdout",
     "output_type": "stream",
     "text": [
      "Taken out data (20%): [array([73096, 13760, 29222, ..., 35567, 45133, 39220]), array([37273, 19991, 77341, ..., 39484, 72439,  7955]), array([56236, 58508, 59804, ..., 59970, 67834, 13023]), array([23246, 13630, 36162, ..., 63960, 28102, 30919]), array([76850,  8104, 63894, ..., 78254, 67084, 38515])]\n"
     ]
    }
   ],
   "source": [
    "taken_out = pool_and_take_out(temp)\n",
    "print(\"Taken out data (20%):\", taken_out)"
   ]
  },
  {
   "cell_type": "code",
   "execution_count": 112,
   "metadata": {},
   "outputs": [
    {
     "data": {
      "text/plain": [
       "16559"
      ]
     },
     "execution_count": 112,
     "metadata": {},
     "output_type": "execute_result"
    }
   ],
   "source": [
    "len(taken_out[0])"
   ]
  },
  {
   "cell_type": "markdown",
   "metadata": {},
   "source": [
    "## Ah"
   ]
  },
  {
   "cell_type": "code",
   "execution_count": null,
   "metadata": {},
   "outputs": [],
   "source": [
    "results_1_1 = []\n",
    "\n",
    "for i in range(1,5):\n",
    "    combos = itertools.combinations(train_names_6c, i)\n",
    "\n",
    "    results_1_1.append({})\n",
    "\n",
    "    for train_combo in combos:\n",
    "        results_1_1[i-1][train_combo] = []\n",
    "        for _ in range(runs[i-1]):\n",
    "            training_data, test_data, training_labels, test_labels = prep_train_test_data(data_6c, labels_6c, combined_train_1_1, test_names=['koi_apr11'])\n",
    "            clf.fit(training_data, training_labels)\n",
    "            results_1_1[i-1][train_combo].append(test_classify(clf, np.concatenate([test_data[n] for n in test_data]), np.concatenate([test_labels[m] for m in test_labels])))"
   ]
  },
  {
   "cell_type": "code",
   "execution_count": null,
   "metadata": {},
   "outputs": [],
   "source": []
  },
  {
   "cell_type": "code",
   "execution_count": null,
   "metadata": {},
   "outputs": [],
   "source": []
  },
  {
   "cell_type": "code",
   "execution_count": null,
   "metadata": {},
   "outputs": [],
   "source": [
    "test_names_1_1 = ['100per_1_1', '20per_1_1']\n",
    "train_names_1_1 = [\"20_1_1\", \"40_1_1\", \"60_1_1\", \"80_1_1\", \"100_1_1\"]\n",
    "\n",
    "clf = RandomForestClassifier(class_weight=\"balanced_subsample\")"
   ]
  },
  {
   "cell_type": "code",
   "execution_count": null,
   "metadata": {},
   "outputs": [],
   "source": [
    "results_1_1 = []\n",
    "\n",
    "for i in range(1,6)\n",
    "    results_1_1[i] = []\n",
    "    training_data, test_data, training_labels, test_labels = mc.prep_train_test_data(processed_koi_data, processed_koi_labels, train_combo, test_names=test_names_6c)\n",
    "    clf.fit(training_data, training_labels)\n",
    "    results_1_1[i].append(test_classify(clf, np.concatenate([test_data[n] for n in test_data]), np.concatenate([test_labels[m] for m in test_labels])))"
   ]
  },
  {
   "cell_type": "code",
   "execution_count": null,
   "metadata": {},
   "outputs": [],
   "source": [
    "mccs_6c = []\n",
    "set_size = 1\n",
    "\n",
    "for set in results_6c:\n",
    "    mccs_6c.append([])\n",
    "    for combo in set:\n",
    "        for trial in set[combo]:\n",
    "            mccs_6c[set_size - 1].append(trial[\"mcc\"])\n",
    "    set_size += 1\n",
    "\n",
    "avg_mcc_6c = np.mean(mccs_6c, axis=1)\n",
    "variance_6c = np.var(mccs_6c, axis=1)"
   ]
  },
  {
   "cell_type": "code",
   "execution_count": null,
   "metadata": {},
   "outputs": [],
   "source": [
    "xticks = list(range(1, len(variance_6c)+1))\n",
    "plt.bar(xticks, variance_6c)\n",
    "plt.title(\"Variance in MCC of Predictions of Koi April 25 (4) and Koi April 25 (6)\")\n",
    "plt.xlabel(\"Number of Training Datasets\")\n",
    "plt.ylabel(\"Variance\")\n",
    "plt.xticks(xticks)\n",
    "plt.show()"
   ]
  },
  {
   "cell_type": "code",
   "execution_count": null,
   "metadata": {},
   "outputs": [],
   "source": [
    "plt.bar(xticks, avg_mcc_6c)\n",
    "plt.title(\"Average MCC of Predictions of Koi April 25 (4) and Koi April 25 (6)\")\n",
    "plt.xlabel(\"Number of Training Datasets\")\n",
    "plt.ylabel(\"MCC\")\n",
    "plt.xticks(xticks)\n",
    "plt.show()"
   ]
  },
  {
   "cell_type": "code",
   "execution_count": null,
   "metadata": {},
   "outputs": [],
   "source": []
  },
  {
   "cell_type": "markdown",
   "metadata": {},
   "source": [
    "## 1.2 Old"
   ]
  },
  {
   "cell_type": "code",
   "execution_count": null,
   "metadata": {},
   "outputs": [],
   "source": [
    "test_names_6c = [\"koi_apr25_4\", \"koi_apr25_6\"]\n",
    "train_names_6c = [\"koi_apr11\", \"koi_apr17\", \"koi_apr25\", \"koi_apr25_3\"]\n",
    "\n",
    "process = lambda x : mf.changes_in_changes(mf.vel(x), 10, 0.1)\n",
    "data_6c, labels_6c = process_data(pose_data_koi, labels_koi, process)\n",
    "\n",
    "runs = [3, 2, 3, 12]\n",
    "clf = RandomForestClassifier(class_weight=\"balanced_subsample\")"
   ]
  },
  {
   "cell_type": "code",
   "execution_count": null,
   "metadata": {},
   "outputs": [],
   "source": [
    "results_6c = []\n",
    "\n",
    "for i in range(1,5):\n",
    "    combos = itertools.combinations(train_names_6c, i)\n",
    "\n",
    "    results_6c.append({})\n",
    "\n",
    "    for train_combo in combos:\n",
    "        results_6c[i-1][train_combo] = []\n",
    "        for _ in range(runs[i-1]):\n",
    "            training_data, test_data, training_labels, test_labels = prep_train_test_data(data_6c, labels_6c, train_combo, test_names=test_names_6c)\n",
    "            clf.fit(training_data, training_labels)\n",
    "            results_6c[i-1][train_combo].append(test_classify(clf, np.concatenate([test_data[n] for n in test_data]), np.concatenate([test_labels[m] for m in test_labels])))"
   ]
  },
  {
   "cell_type": "code",
   "execution_count": null,
   "metadata": {},
   "outputs": [],
   "source": [
    "mccs_6c = []\n",
    "set_size = 1\n",
    "\n",
    "for set in results_6c:\n",
    "    mccs_6c.append([])\n",
    "    for combo in set:\n",
    "        for trial in set[combo]:\n",
    "            mccs_6c[set_size - 1].append(trial[\"mcc\"])\n",
    "    set_size += 1\n",
    "\n",
    "avg_mcc_6c = np.mean(mccs_6c, axis=1)\n",
    "variance_6c = np.var(mccs_6c, axis=1)"
   ]
  },
  {
   "cell_type": "code",
   "execution_count": null,
   "metadata": {},
   "outputs": [],
   "source": [
    "plt.bar(xticks, avg_mcc_6c)\n",
    "plt.title(\"Average MCC of Predictions of Koi April 25 (4) and Koi April 25 (6)\")\n",
    "plt.xlabel(\"Number of Training Datasets\")\n",
    "plt.ylabel(\"MCC\")\n",
    "plt.xticks(xticks)\n",
    "plt.show()"
   ]
  },
  {
   "cell_type": "code",
   "execution_count": null,
   "metadata": {},
   "outputs": [],
   "source": []
  },
  {
   "cell_type": "code",
   "execution_count": null,
   "metadata": {},
   "outputs": [],
   "source": []
  }
 ],
 "metadata": {
  "kernelspec": {
   "display_name": "Python 3 (ipykernel)",
   "language": "python",
   "name": "python3"
  },
  "language_info": {
   "codemirror_mode": {
    "name": "ipython",
    "version": 3
   },
   "file_extension": ".py",
   "mimetype": "text/x-python",
   "name": "python",
   "nbconvert_exporter": "python",
   "pygments_lexer": "ipython3",
   "version": "3.10.11"
  }
 },
 "nbformat": 4,
 "nbformat_minor": 4
}
